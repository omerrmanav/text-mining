{
 "cells": [
  {
   "cell_type": "code",
   "execution_count": 23,
   "id": "515e7652",
   "metadata": {},
   "outputs": [],
   "source": [
    "def create_bow_vector(documents):\n",
    "    vocabulary = set() # benzersiz kelimelerle sözlük\n",
    "    for doc in documents:\n",
    "        words = doc.lower().replace(',','').replace('.','').split() # cümleleri kelimelere (token) ayırma\n",
    "        vocabulary.update(words) # sözlüğe ekleme\n",
    "\n",
    "    vocab_list = sorted(list(vocabulary)) # alfabetik olarak sırala her vektörde kelime sıralaması aynı olmalı\n",
    "    vocab_index = {word: i for i, word in enumerate(vocab_list)} \n",
    "    # vocab_index = {\"kelime1\":0, \"kelime2\":2} enumerate ile hem indeks bilgisi (i) hem de kelimeyi (word) alıyoruz\n",
    "\n",
    "    bow_vectors = []\n",
    "    for doc in documents: # vocab_list = [\"kelime1\", \"kelime2\", \"kelime3\"]\n",
    "        vector = [0] * len(vocab_list) #  vector = [0, 0, 0] list uzunluğu kadar 0 ile başlatıyoruz\n",
    "        words = doc.lower().replace(',','').replace('.','').split()\n",
    "\n",
    "        for word in words:\n",
    "            vector[vocab_index[word]] += 1 # her geçen kelime ile vector yazılıyor [2,1,1,0] gibi\n",
    "        bow_vectors.append(vector)\n",
    "    \n",
    "    return vocab_list, bow_vectors"
   ]
  },
  {
   "cell_type": "code",
   "execution_count": 27,
   "id": "8fd35d70",
   "metadata": {},
   "outputs": [
    {
     "name": "stdout",
     "output_type": "stream",
     "text": [
      "vocabulary:  ['coding', 'for', 'great', 'i', 'is', 'love', 'python']\n",
      "\n",
      "vectors:\n",
      "I love coding: [1, 0, 0, 1, 0, 1, 0]\n",
      "Python is great for coding: [1, 1, 1, 0, 1, 0, 1]\n",
      "Coding is great.: [1, 0, 1, 0, 1, 0, 0]\n"
     ]
    }
   ],
   "source": [
    "document = [\n",
    "    \"I love coding\",\n",
    "    \"Python is great for coding\",\n",
    "    \"Coding is great.\"\n",
    "]\n",
    "\n",
    "vocabulary, vectors = create_bow_vector(document)\n",
    "print(\"vocabulary: \", vocabulary)\n",
    "print(\"\\nvectors:\")\n",
    "for i, vector in enumerate(vectors):\n",
    "    print(f\"{document[i]}: {vector}\")"
   ]
  },
  {
   "cell_type": "code",
   "execution_count": null,
   "id": "cb879a41",
   "metadata": {},
   "outputs": [],
   "source": []
  }
 ],
 "metadata": {
  "kernelspec": {
   "display_name": ".venv",
   "language": "python",
   "name": "python3"
  },
  "language_info": {
   "codemirror_mode": {
    "name": "ipython",
    "version": 3
   },
   "file_extension": ".py",
   "mimetype": "text/x-python",
   "name": "python",
   "nbconvert_exporter": "python",
   "pygments_lexer": "ipython3",
   "version": "3.12.3"
  }
 },
 "nbformat": 4,
 "nbformat_minor": 5
}
